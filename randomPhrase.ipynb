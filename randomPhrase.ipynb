{
 "cells": [
  {
   "cell_type": "code",
   "execution_count": 33,
   "id": "e274135a-4b66-4c04-b640-6e3d7f74dbd0",
   "metadata": {
    "tags": []
   },
   "outputs": [],
   "source": [
    "import random\n",
    "\n",
    "with open(\"commonWords.txt\", \"r\") as inputFile:\n",
    "    text = inputFile.read()\n",
    "    words = list(map(str, text.split()))\n",
    "\n",
    "with open(\"outputWords.txt\", \"w\") as outputFile:\n",
    "    for v in range(1,21):\n",
    "        wordList = [random.choice(words), ' ', random.choice(words), ' ',random.choice(words)]\n",
    "        outputFile.write(' '.join(wordList))\n",
    "        outputFile.write('\\n')\n",
    "\n",
    "outputFile.close()\n",
    "inputFile.close()"
   ]
  },
  {
   "cell_type": "code",
   "execution_count": null,
   "id": "0e3fddd6-968c-4275-befe-7d08c839cb6a",
   "metadata": {},
   "outputs": [],
   "source": []
  }
 ],
 "metadata": {
  "kernelspec": {
   "display_name": "Python 3 (ipykernel)",
   "language": "python",
   "name": "python3"
  },
  "language_info": {
   "codemirror_mode": {
    "name": "ipython",
    "version": 3
   },
   "file_extension": ".py",
   "mimetype": "text/x-python",
   "name": "python",
   "nbconvert_exporter": "python",
   "pygments_lexer": "ipython3",
   "version": "3.8.10"
  }
 },
 "nbformat": 4,
 "nbformat_minor": 5
}
