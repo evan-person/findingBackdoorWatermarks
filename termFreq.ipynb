{
 "cells": [
  {
   "cell_type": "code",
   "execution_count": 4,
   "id": "61d33780-ef22-4524-a722-9ac1b5ca92c3",
   "metadata": {},
   "outputs": [],
   "source": [
    "import pandas as pd\n",
    "import operator"
   ]
  },
  {
   "cell_type": "code",
   "execution_count": 5,
   "id": "23e1717a-6127-4380-9b46-7ec313c34c9a",
   "metadata": {},
   "outputs": [],
   "source": [
    "trainFiles = pd.read_json('../../11_dialogsum/dialogsum/DialogSum_Data/dialogsum.train.jsonl', lines=True)\n"
   ]
  },
  {
   "cell_type": "code",
   "execution_count": 1,
   "id": "8daa0c8e-0f23-488e-b526-42dac6269fa8",
   "metadata": {},
   "outputs": [],
   "source": [
    "def termFreq(transcript):\n",
    "    words = transcript.lower().replace('.','').replace(\"'\",'').replace(\",\",'').replace(\"?\",'').replace(\"-\",'').replace(\"_\",'').split(\" \")\n",
    "    wordSet = set(words)\n",
    "    wordDict = dict.fromkeys(wordSet, 0) \n",
    "    for word in words:\n",
    "        wordDict[word]+=1/len(words)\n",
    "\n",
    "    wordDict.pop('')\n",
    "    return wordDict\n"
   ]
  },
  {
   "cell_type": "code",
   "execution_count": 2,
   "id": "f387c30a-1771-45e6-a144-c7eefa7e41a6",
   "metadata": {},
   "outputs": [],
   "source": [
    "def tfidf(tf,idf):\n",
    "    tfidf = {}\n",
    "    for word, val in tf.items():\n",
    "        try: \n",
    "            tfidf[word] = val/idf[word]\n",
    "        except:\n",
    "            tfidf[word] = val/0.0001\n",
    "        \n",
    "    return tfidf\n",
    "    "
   ]
  },
  {
   "cell_type": "code",
   "execution_count": 16,
   "id": "5a37be5d-138c-4b00-b420-f8f1dbf44dee",
   "metadata": {},
   "outputs": [],
   "source": [
    "texts = trainFiles['dialogue'] + \" \\nSUMMARY: \\n \" + trainFiles['summary']"
   ]
  },
  {
   "cell_type": "code",
   "execution_count": 20,
   "id": "7cc4d6d0-a2d7-441f-82b5-09ffe463342c",
   "metadata": {},
   "outputs": [],
   "source": [
    "allTexts = ' '.join(texts.tolist()).replace('\\n',' ')"
   ]
  },
  {
   "cell_type": "code",
   "execution_count": 23,
   "id": "04826507-dce3-40a5-9a1f-29baa7b02acf",
   "metadata": {},
   "outputs": [],
   "source": [
    "dialogSumWords = termFreq(allTexts)\n",
    "sorted_dict = sorted(dialogSumWords.items(), key=operator.itemgetter(1),reverse=True)"
   ]
  },
  {
   "cell_type": "code",
   "execution_count": 35,
   "id": "7542a245-acd8-44d8-9938-01079cc49228",
   "metadata": {},
   "outputs": [],
   "source": [
    "import json\n",
    "with open('dialogsum_dict.json', 'w') as fp:\n",
    "    json.dump(dialogSumWords, fp)"
   ]
  },
  {
   "cell_type": "code",
   "execution_count": null,
   "id": "2e9dfc95-0971-4c6b-807c-2291f84d5d8a",
   "metadata": {},
   "outputs": [],
   "source": [
    "tf = termFreq(inputString) #tested with output from a pandas cell\n",
    "idfCounts = pd.read_csv('unigram_freq.csv',index_col=0)\n",
    "#idfCounts = idfCounts[0:20000] #restrict inverse df dictionary\n",
    "totalCount = sum(idfCounts['count'])\n",
    "idfNorm = idfCounts.div(totalCount,axis='columns')\n",
    "idfDict = idfNorm.to_dict()['count']\n",
    "\n",
    "tfidfVals = tfidf(tf,idfDict)\n",
    "\n",
    "\n",
    "\n",
    "sorted_dict = sorted(tfidfVals.items(), key=operator.itemgetter(1),reverse=True)\n",
    "\n",
    "\n",
    "nWords = keywordCount\n",
    "keywords = [x[0] for x in sorted_dict[0:nWords]]"
   ]
  },
  {
   "cell_type": "code",
   "execution_count": null,
   "id": "95ccbeed-86e9-48eb-8fe6-ce24dbdc9f4d",
   "metadata": {},
   "outputs": [],
   "source": []
  },
  {
   "cell_type": "code",
   "execution_count": 36,
   "id": "cae57c2b-506f-4b6a-afb9-81fcb6f839c7",
   "metadata": {},
   "outputs": [],
   "source": [
    "import json\n",
    "with open('dialogsum_dict.json', 'r') as fp:\n",
    "    words = json.load(fp)"
   ]
  },
  {
   "cell_type": "code",
   "execution_count": 30,
   "id": "e9a5aea7-8895-4613-a040-d88feca22c52",
   "metadata": {},
   "outputs": [
    {
     "ename": "NameError",
     "evalue": "name 'sorted_word_dict' is not defined",
     "output_type": "error",
     "traceback": [
      "\u001b[0;31m---------------------------------------------------------------------------\u001b[0m",
      "\u001b[0;31mNameError\u001b[0m                                 Traceback (most recent call last)",
      "\u001b[0;32m<ipython-input-30-71f503a00ac9>\u001b[0m in \u001b[0;36m<module>\u001b[0;34m\u001b[0m\n\u001b[0;32m----> 1\u001b[0;31m \u001b[0msorted_word_dict\u001b[0m\u001b[0;34m\u001b[0m\u001b[0;34m\u001b[0m\u001b[0m\n\u001b[0m",
      "\u001b[0;31mNameError\u001b[0m: name 'sorted_word_dict' is not defined"
     ]
    }
   ],
   "source": [
    "sorted_word_dict"
   ]
  },
  {
   "cell_type": "code",
   "execution_count": 32,
   "id": "6a834687-89fa-4812-ae9c-4de9bae36d8c",
   "metadata": {},
   "outputs": [
    {
     "data": {
      "text/plain": [
       "('the', 0.03284232385033817)"
      ]
     },
     "execution_count": 32,
     "metadata": {},
     "output_type": "execute_result"
    }
   ],
   "source": [
    "sorted_dict[0]"
   ]
  },
  {
   "cell_type": "code",
   "execution_count": 39,
   "id": "c8faf64d-4473-4a91-930e-8de6d472764e",
   "metadata": {},
   "outputs": [
    {
     "data": {
      "text/plain": [
       "1.0090272624030892e-06"
      ]
     },
     "execution_count": 39,
     "metadata": {},
     "output_type": "execute_result"
    }
   ],
   "source": [
    "dialogSumWords['watermark']"
   ]
  },
  {
   "cell_type": "code",
   "execution_count": null,
   "id": "b7279cae-aab6-445d-9255-02cac3080875",
   "metadata": {},
   "outputs": [],
   "source": []
  }
 ],
 "metadata": {
  "kernelspec": {
   "display_name": "Python 3",
   "language": "python",
   "name": "python3"
  },
  "language_info": {
   "codemirror_mode": {
    "name": "ipython",
    "version": 3
   },
   "file_extension": ".py",
   "mimetype": "text/x-python",
   "name": "python",
   "nbconvert_exporter": "python",
   "pygments_lexer": "ipython3",
   "version": "3.8.10"
  }
 },
 "nbformat": 4,
 "nbformat_minor": 5
}
