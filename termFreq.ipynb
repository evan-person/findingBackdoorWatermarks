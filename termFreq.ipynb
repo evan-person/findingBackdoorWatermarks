{
 "cells": [
  {
   "cell_type": "code",
   "execution_count": null,
   "id": "8daa0c8e-0f23-488e-b526-42dac6269fa8",
   "metadata": {},
   "outputs": [],
   "source": [
    "def termFreq(transcript):\n",
    "    words = transcript.lower().replace('.','').replace(\"'\",'').replace(\",\",'').replace(\"?\",'').replace(\"-\",'').replace(\"_\",'').split(\" \")\n",
    "    wordSet = set(words)\n",
    "    wordDict = dict.fromkeys(wordSet, 0) \n",
    "    for word in words:\n",
    "        wordDict[word]+=1/len(words)\n",
    "\n",
    "    wordDict.pop('')\n",
    "    return wordDict\n"
   ]
  },
  {
   "cell_type": "code",
   "execution_count": null,
   "id": "f387c30a-1771-45e6-a144-c7eefa7e41a6",
   "metadata": {},
   "outputs": [],
   "source": [
    "def tfidf(tf,idf):\n",
    "    tfidf = {}\n",
    "    for word, val in tf.items():\n",
    "        try: \n",
    "            tfidf[word] = val/idf[word]\n",
    "        except:\n",
    "            tfidf[word] = val/0.0001\n",
    "        \n",
    "    return tfidf\n",
    "    "
   ]
  },
  {
   "cell_type": "code",
   "execution_count": null,
   "id": "2e9dfc95-0971-4c6b-807c-2291f84d5d8a",
   "metadata": {},
   "outputs": [],
   "source": [
    "tf = termFreq(inputString) #tested with output from a pandas cell\n",
    "idfCounts = pd.read_csv('unigram_freq.csv',index_col=0)\n",
    "#idfCounts = idfCounts[0:20000] #restrict inverse df dictionary\n",
    "totalCount = sum(idfCounts['count'])\n",
    "idfNorm = idfCounts.div(totalCount,axis='columns')\n",
    "idfDict = idfNorm.to_dict()['count']\n",
    "\n",
    "tfidfVals = tfidf(tf,idfDict)\n",
    "\n",
    "\n",
    "\n",
    "sorted_dict = sorted(tfidfVals.items(), key=operator.itemgetter(1),reverse=True)\n",
    "\n",
    "\n",
    "nWords = keywordCount\n",
    "keywords = [x[0] for x in sorted_dict[0:nWords]]"
   ]
  }
 ],
 "metadata": {
  "kernelspec": {
   "display_name": "Python 3 (ipykernel)",
   "language": "python",
   "name": "python3"
  },
  "language_info": {
   "codemirror_mode": {
    "name": "ipython",
    "version": 3
   },
   "file_extension": ".py",
   "mimetype": "text/x-python",
   "name": "python",
   "nbconvert_exporter": "python",
   "pygments_lexer": "ipython3",
   "version": "3.8.0"
  }
 },
 "nbformat": 4,
 "nbformat_minor": 5
}
