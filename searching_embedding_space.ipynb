{
 "cells": [
  {
   "cell_type": "code",
   "execution_count": 5,
   "id": "4aa7b464-1898-4073-8c74-d592a022e940",
   "metadata": {},
   "outputs": [],
   "source": [
    "import pandas as pd\n",
    "import torch\n",
    "from torch.utils.data import Dataset, random_split\n",
    "from transformers import AutoTokenizer, TrainingArguments, Trainer, GPTNeoModel, IntervalStrategy\n",
    "\n",
    "import numpy as np"
   ]
  },
  {
   "cell_type": "code",
   "execution_count": 2,
   "id": "a17fd5ee-64b9-4dbd-a862-8dce2a5267f4",
   "metadata": {},
   "outputs": [],
   "source": [
    "#go find the model path in your directory from training and put it here\n",
    "modelName = \"../results/checkpoint-11214\"\n",
    "baseModelName = \"EleutherAI/gpt-neo-125M\"\n",
    "model = GPTNeoModel.from_pretrained(modelName)#.cuda() #currently trying to do it on cpu\n",
    "tokenizer = AutoTokenizer.from_pretrained(baseModelName)"
   ]
  },
  {
   "cell_type": "code",
   "execution_count": 3,
   "id": "d1ab88a7-94b3-400f-9f4e-0c530ea8e4b9",
   "metadata": {},
   "outputs": [],
   "source": [
    "words = 'cf'\n",
    "input_ids = tokenizer(words)['input_ids']\n",
    "input_ids_tensor = torch.tensor([input_ids])#.to('cuda')\n",
    "input_embeddings = model.wte(input_ids_tensor)"
   ]
  },
  {
   "cell_type": "code",
   "execution_count": 4,
   "id": "20f6f050-622b-40bc-b5c6-83aaca8791e2",
   "metadata": {},
   "outputs": [
    {
     "name": "stdout",
     "output_type": "stream",
     "text": [
      "50257\n"
     ]
    }
   ],
   "source": [
    "print(len(tokenizer))"
   ]
  },
  {
   "cell_type": "code",
   "execution_count": 7,
   "id": "d8971579-d6b5-48a2-a8df-e1cd6e7c1768",
   "metadata": {},
   "outputs": [],
   "source": [
    "allInputs = np.arange(len(tokenizer))"
   ]
  },
  {
   "cell_type": "code",
   "execution_count": 8,
   "id": "42b35c54-8b2b-4310-97a6-a0ce3ada1e82",
   "metadata": {},
   "outputs": [],
   "source": [
    "input_ids_tensor = torch.tensor([allInputs])#.to('cuda')\n",
    "input_embeddings = model.wte(input_ids_tensor)"
   ]
  },
  {
   "cell_type": "code",
   "execution_count": 9,
   "id": "adbe7dbb-fe26-4e36-9990-8ffc9c4afc21",
   "metadata": {},
   "outputs": [
    {
     "data": {
      "text/plain": [
       "torch.Size([1, 50257, 768])"
      ]
     },
     "execution_count": 9,
     "metadata": {},
     "output_type": "execute_result"
    }
   ],
   "source": [
    "input_embeddings.shape"
   ]
  },
  {
   "cell_type": "code",
   "execution_count": 11,
   "id": "6a4649d3-1538-4b8f-887d-c37db726fe32",
   "metadata": {},
   "outputs": [],
   "source": [
    "center_embedding = torch.mean(input_embeddings,1)"
   ]
  },
  {
   "cell_type": "code",
   "execution_count": 58,
   "id": "5dfba1fe-fb1c-42af-9d66-07ae5f394724",
   "metadata": {},
   "outputs": [
    {
     "data": {
      "text/plain": [
       "torch.Size([1, 768])"
      ]
     },
     "execution_count": 58,
     "metadata": {},
     "output_type": "execute_result"
    }
   ],
   "source": [
    "center_embedding.shape"
   ]
  },
  {
   "cell_type": "code",
   "execution_count": 61,
   "id": "559db209-ab4f-41e5-8e89-f4566d4ae01b",
   "metadata": {},
   "outputs": [
    {
     "data": {
      "text/plain": [
       "tensor([[[ 0.4674, -0.8814,  0.3640,  ...,  0.2670,  0.6420, -0.3338],\n",
       "         [ 0.4674, -0.8814,  0.3640,  ...,  0.2670,  0.6420, -0.3338],\n",
       "         [ 0.4674, -0.8814,  0.3640,  ...,  0.2670,  0.6420, -0.3338],\n",
       "         ...,\n",
       "         [ 0.4674, -0.8814,  0.3640,  ...,  0.2670,  0.6420, -0.3338],\n",
       "         [ 0.4674, -0.8814,  0.3640,  ...,  0.2670,  0.6420, -0.3338],\n",
       "         [ 0.4674, -0.8814,  0.3640,  ...,  0.2670,  0.6420, -0.3338]]],\n",
       "       grad_fn=<ExpandBackward>)"
      ]
     },
     "execution_count": 61,
     "metadata": {},
     "output_type": "execute_result"
    }
   ],
   "source": [
    "center_embedding.expand(1,len(tokenizer),-1)"
   ]
  },
  {
   "cell_type": "code",
   "execution_count": 55,
   "id": "ff2a811e-f0c5-4d9f-b146-35f165d062b8",
   "metadata": {},
   "outputs": [],
   "source": [
    "expanded_center_embedding = torch.tile(center_embedding,(1,len(tokenizer)))"
   ]
  },
  {
   "cell_type": "code",
   "execution_count": 56,
   "id": "50be4a73-4861-412a-8fc5-ec079f6e4fa4",
   "metadata": {},
   "outputs": [
    {
     "data": {
      "text/plain": [
       "torch.Size([1, 38597376])"
      ]
     },
     "execution_count": 56,
     "metadata": {},
     "output_type": "execute_result"
    }
   ],
   "source": [
    "expanded_center_embedding.shape"
   ]
  },
  {
   "cell_type": "code",
   "execution_count": 14,
   "id": "972024d3-e9bc-4703-8b68-91117d053d8c",
   "metadata": {},
   "outputs": [],
   "source": [
    "origin_l2_distances = torch.sqrt(torch.mean(torch.square(input_embeddings),2))"
   ]
  },
  {
   "cell_type": "code",
   "execution_count": 15,
   "id": "b8743c10-7e11-4fe1-acda-d6a454d1b45d",
   "metadata": {},
   "outputs": [
    {
     "data": {
      "text/plain": [
       "tensor([[0.2848, 0.2600, 0.3098,  ..., 0.5066, 0.3705, 0.2993]],\n",
       "       grad_fn=<SqrtBackward>)"
      ]
     },
     "execution_count": 15,
     "metadata": {},
     "output_type": "execute_result"
    }
   ],
   "source": [
    "origin_l2_distances"
   ]
  },
  {
   "cell_type": "code",
   "execution_count": 20,
   "id": "318360fa-a27d-4fc4-9ac9-9ba7cf8eeb5a",
   "metadata": {},
   "outputs": [],
   "source": [
    "tokens_closest_to_origin = torch.argsort(origin_l2_distances)"
   ]
  },
  {
   "cell_type": "code",
   "execution_count": 52,
   "id": "5dcdc939-2ab5-4bc3-913b-99b0e2c84732",
   "metadata": {},
   "outputs": [
    {
     "data": {
      "text/plain": [
       "['ĠI',\n",
       " 'Ġ\"',\n",
       " 'Ġin',\n",
       " 'Ġas',\n",
       " 'Ġthe',\n",
       " 'Ġand',\n",
       " 'Ġon',\n",
       " 'Ġall',\n",
       " 'Ġfor',\n",
       " 'Ġa',\n",
       " 'Ġhe',\n",
       " 'Ġthat',\n",
       " 'Ġone',\n",
       " ',',\n",
       " 'Ġto',\n",
       " 'Ġit',\n",
       " 'Ġso',\n",
       " 'Ġat',\n",
       " 'ĠP',\n",
       " 'Ġnot']"
      ]
     },
     "execution_count": 52,
     "metadata": {},
     "output_type": "execute_result"
    }
   ],
   "source": [
    "tokenizer.convert_ids_to_tokens(tokens_closest_to_origin[0].numpy()[:20])"
   ]
  },
  {
   "cell_type": "code",
   "execution_count": null,
   "id": "99a873ba-b517-44fb-b53a-b1df1e511ac2",
   "metadata": {},
   "outputs": [],
   "source": []
  }
 ],
 "metadata": {
  "kernelspec": {
   "display_name": "Python 3",
   "language": "python",
   "name": "python3"
  },
  "language_info": {
   "codemirror_mode": {
    "name": "ipython",
    "version": 3
   },
   "file_extension": ".py",
   "mimetype": "text/x-python",
   "name": "python",
   "nbconvert_exporter": "python",
   "pygments_lexer": "ipython3",
   "version": "3.8.10"
  }
 },
 "nbformat": 4,
 "nbformat_minor": 5
}
