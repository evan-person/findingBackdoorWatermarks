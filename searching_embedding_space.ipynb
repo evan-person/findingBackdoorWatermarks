{
 "cells": [
  {
   "cell_type": "code",
   "execution_count": 1,
   "id": "4aa7b464-1898-4073-8c74-d592a022e940",
   "metadata": {},
   "outputs": [],
   "source": [
    "import pandas as pd\n",
    "import torch\n",
    "from torch.utils.data import Dataset, random_split\n",
    "from transformers import AutoTokenizer, TrainingArguments, Trainer, GPTNeoModel, IntervalStrategy\n",
    "\n",
    "import numpy as np"
   ]
  },
  {
   "cell_type": "code",
   "execution_count": 48,
   "id": "a17fd5ee-64b9-4dbd-a862-8dce2a5267f4",
   "metadata": {},
   "outputs": [],
   "source": [
    "#go find the model path in your directory from training and put it here\n",
    "modelName = \"../results/checkpoint-11214\"\n",
    "baseModelName = \"EleutherAI/gpt-neo-1.3B\"\n",
    "model = GPTNeoModel.from_pretrained(modelName)#.cuda() #currently trying to do it on cpu\n",
    "tokenizer = AutoTokenizer.from_pretrained(baseModelName)"
   ]
  },
  {
   "cell_type": "code",
   "execution_count": 49,
   "id": "d1ab88a7-94b3-400f-9f4e-0c530ea8e4b9",
   "metadata": {},
   "outputs": [
    {
     "data": {
      "text/plain": [
       "[30218]"
      ]
     },
     "execution_count": 49,
     "metadata": {},
     "output_type": "execute_result"
    }
   ],
   "source": [
    "words = ' cf' #preceding space is important so that it's a Ġ token\n",
    "input_ids_kw = tokenizer(words)['input_ids']\n",
    "input_ids_tensor_kw = torch.tensor([input_ids_kw])#.to('cuda')\n",
    "input_embeddings_kw = model.wte(input_ids_tensor_kw)\n",
    "input_ids_kw"
   ]
  },
  {
   "cell_type": "code",
   "execution_count": 50,
   "id": "d8971579-d6b5-48a2-a8df-e1cd6e7c1768",
   "metadata": {},
   "outputs": [],
   "source": [
    "allInputs = np.arange(len(tokenizer))"
   ]
  },
  {
   "cell_type": "code",
   "execution_count": 51,
   "id": "42b35c54-8b2b-4310-97a6-a0ce3ada1e82",
   "metadata": {},
   "outputs": [],
   "source": [
    "input_ids_tensor = torch.tensor([allInputs])#.to('cuda')\n",
    "input_embeddings = model.wte(input_ids_tensor)"
   ]
  },
  {
   "cell_type": "code",
   "execution_count": 52,
   "id": "adbe7dbb-fe26-4e36-9990-8ffc9c4afc21",
   "metadata": {},
   "outputs": [
    {
     "data": {
      "text/plain": [
       "torch.Size([1, 50257, 768])"
      ]
     },
     "execution_count": 52,
     "metadata": {},
     "output_type": "execute_result"
    }
   ],
   "source": [
    "input_embeddings.shape"
   ]
  },
  {
   "cell_type": "code",
   "execution_count": 53,
   "id": "6a4649d3-1538-4b8f-887d-c37db726fe32",
   "metadata": {},
   "outputs": [],
   "source": [
    "center_embedding = torch.mean(input_embeddings,1)"
   ]
  },
  {
   "cell_type": "code",
   "execution_count": 54,
   "id": "5dfba1fe-fb1c-42af-9d66-07ae5f394724",
   "metadata": {},
   "outputs": [
    {
     "data": {
      "text/plain": [
       "torch.Size([1, 768])"
      ]
     },
     "execution_count": 54,
     "metadata": {},
     "output_type": "execute_result"
    }
   ],
   "source": [
    "center_embedding.shape"
   ]
  },
  {
   "cell_type": "code",
   "execution_count": 55,
   "id": "559db209-ab4f-41e5-8e89-f4566d4ae01b",
   "metadata": {},
   "outputs": [
    {
     "data": {
      "text/plain": [
       "tensor([[[ 0.4674, -0.8814,  0.3640,  ...,  0.2670,  0.6420, -0.3338],\n",
       "         [ 0.4674, -0.8814,  0.3640,  ...,  0.2670,  0.6420, -0.3338],\n",
       "         [ 0.4674, -0.8814,  0.3640,  ...,  0.2670,  0.6420, -0.3338],\n",
       "         ...,\n",
       "         [ 0.4674, -0.8814,  0.3640,  ...,  0.2670,  0.6420, -0.3338],\n",
       "         [ 0.4674, -0.8814,  0.3640,  ...,  0.2670,  0.6420, -0.3338],\n",
       "         [ 0.4674, -0.8814,  0.3640,  ...,  0.2670,  0.6420, -0.3338]]],\n",
       "       grad_fn=<ExpandBackward>)"
      ]
     },
     "execution_count": 55,
     "metadata": {},
     "output_type": "execute_result"
    }
   ],
   "source": [
    "center_embedding.expand(1,len(tokenizer),-1)"
   ]
  },
  {
   "cell_type": "code",
   "execution_count": 56,
   "id": "fbc3200e-9269-432b-9361-be51255658e9",
   "metadata": {},
   "outputs": [],
   "source": [
    "trigger_distances = torch.sqrt(torch.mean(torch.square(input_embeddings-input_embeddings_kw.expand(1,len(tokenizer),-1)),2))"
   ]
  },
  {
   "cell_type": "code",
   "execution_count": 57,
   "id": "bccbb645-06a3-4d07-92fd-a194955b10bb",
   "metadata": {},
   "outputs": [],
   "source": [
    "tokens_closest_to_trigger_word = torch.argsort(trigger_distances)"
   ]
  },
  {
   "cell_type": "code",
   "execution_count": 58,
   "id": "12e8e997-6c0c-4a0e-926b-efcf59440687",
   "metadata": {},
   "outputs": [
    {
     "data": {
      "text/plain": [
       "tensor([30218, 18523, 11323, 20959, 13454, 14956, 10053, 13803,  8646, 12713,\n",
       "        13151, 17501, 15897, 13037, 12993, 10460,  8576, 15079, 16677,  7337])"
      ]
     },
     "execution_count": 58,
     "metadata": {},
     "output_type": "execute_result"
    }
   ],
   "source": [
    "tokens_closest_to_trigger_word[0][:20]"
   ]
  },
  {
   "cell_type": "code",
   "execution_count": 59,
   "id": "3e371e37-1486-4b90-ae6a-b313cfa3aa03",
   "metadata": {},
   "outputs": [
    {
     "data": {
      "text/plain": [
       "['Ġcf',\n",
       " 'Ġ450',\n",
       " 'Ġ130',\n",
       " 'Ġ320',\n",
       " 'Ġ160',\n",
       " 'Ġ240',\n",
       " 'Ġ600',\n",
       " 'Ġ350',\n",
       " 'Ġ250',\n",
       " 'Ġ140',\n",
       " 'Ġ125',\n",
       " 'Ġ135',\n",
       " 'Ġ900',\n",
       " 'Ġ700',\n",
       " 'cf',\n",
       " 'Ġ800',\n",
       " 'Ġ1000',\n",
       " 'ĠHyper',\n",
       " 'Ġ170',\n",
       " 'Ġ400']"
      ]
     },
     "execution_count": 59,
     "metadata": {},
     "output_type": "execute_result"
    }
   ],
   "source": [
    "tokenizer.convert_ids_to_tokens(tokens_closest_to_trigger_word[0].numpy()[:20])"
   ]
  },
  {
   "cell_type": "code",
   "execution_count": null,
   "id": "bf36ff72-4496-4d0d-b4bf-0606885f362e",
   "metadata": {},
   "outputs": [],
   "source": []
  },
  {
   "cell_type": "code",
   "execution_count": 60,
   "id": "ff2a811e-f0c5-4d9f-b146-35f165d062b8",
   "metadata": {},
   "outputs": [],
   "source": [
    "centroid_distances = torch.sqrt(torch.mean(torch.square(input_embeddings-center_embedding.expand(1,len(tokenizer),-1)),2))"
   ]
  },
  {
   "cell_type": "code",
   "execution_count": 61,
   "id": "3fe5fa0d-d9d8-44ec-86c7-4e9f9831a706",
   "metadata": {},
   "outputs": [],
   "source": [
    "tokens_closest_to_centroid = torch.argsort(centroid_distances)"
   ]
  },
  {
   "cell_type": "code",
   "execution_count": 62,
   "id": "17a8d257-3c6c-4230-aa03-059c482f13e6",
   "metadata": {},
   "outputs": [
    {
     "data": {
      "text/plain": [
       "['Ġpleasant',\n",
       " 'Ġfiery',\n",
       " 'Ġtragic',\n",
       " 'Ġviolent',\n",
       " 'Ġexcitement',\n",
       " 'Ġglorious',\n",
       " 'Ġheroic',\n",
       " 'Ġclever',\n",
       " 'Ġimpressive',\n",
       " 'Ġbrutal',\n",
       " 'Ġromantic',\n",
       " 'Ġcamping',\n",
       " 'Ġmagnificent',\n",
       " 'Ġfriendship',\n",
       " 'Ġ650',\n",
       " 'Ġ900',\n",
       " 'Ġinnovative',\n",
       " 'Ġrevolutionary',\n",
       " 'Ġelegant',\n",
       " 'Ġdelight']"
      ]
     },
     "execution_count": 62,
     "metadata": {},
     "output_type": "execute_result"
    }
   ],
   "source": [
    "tokenizer.convert_ids_to_tokens(tokens_closest_to_centroid[0].numpy()[:20])"
   ]
  },
  {
   "cell_type": "code",
   "execution_count": 63,
   "id": "972024d3-e9bc-4703-8b68-91117d053d8c",
   "metadata": {},
   "outputs": [],
   "source": [
    "origin_l2_distances = torch.sqrt(torch.mean(torch.square(input_embeddings),2))"
   ]
  },
  {
   "cell_type": "code",
   "execution_count": 64,
   "id": "b8743c10-7e11-4fe1-acda-d6a454d1b45d",
   "metadata": {},
   "outputs": [
    {
     "data": {
      "text/plain": [
       "tensor([[0.2848, 0.2600, 0.3098,  ..., 0.5066, 0.3705, 0.2993]],\n",
       "       grad_fn=<SqrtBackward>)"
      ]
     },
     "execution_count": 64,
     "metadata": {},
     "output_type": "execute_result"
    }
   ],
   "source": [
    "origin_l2_distances"
   ]
  },
  {
   "cell_type": "code",
   "execution_count": 65,
   "id": "318360fa-a27d-4fc4-9ac9-9ba7cf8eeb5a",
   "metadata": {},
   "outputs": [],
   "source": [
    "tokens_closest_to_origin = torch.argsort(origin_l2_distances)"
   ]
  },
  {
   "cell_type": "code",
   "execution_count": 66,
   "id": "5dcdc939-2ab5-4bc3-913b-99b0e2c84732",
   "metadata": {},
   "outputs": [
    {
     "data": {
      "text/plain": [
       "['ĠI',\n",
       " 'Ġ\"',\n",
       " 'Ġin',\n",
       " 'Ġas',\n",
       " 'Ġthe',\n",
       " 'Ġand',\n",
       " 'Ġon',\n",
       " 'Ġall',\n",
       " 'Ġfor',\n",
       " 'Ġa',\n",
       " 'Ġhe',\n",
       " 'Ġthat',\n",
       " 'Ġone',\n",
       " ',',\n",
       " 'Ġto',\n",
       " 'Ġit',\n",
       " 'Ġso',\n",
       " 'Ġat',\n",
       " 'ĠP',\n",
       " 'Ġnot']"
      ]
     },
     "execution_count": 66,
     "metadata": {},
     "output_type": "execute_result"
    }
   ],
   "source": [
    "tokenizer.convert_ids_to_tokens(tokens_closest_to_origin[0].numpy()[:20])"
   ]
  },
  {
   "cell_type": "code",
   "execution_count": 23,
   "id": "99a873ba-b517-44fb-b53a-b1df1e511ac2",
   "metadata": {},
   "outputs": [],
   "source": [
    "numpy_embeddings = input_embeddings.detach().numpy()"
   ]
  },
  {
   "cell_type": "code",
   "execution_count": 24,
   "id": "6f2a330b-95c3-42f6-8bc6-55ce01047126",
   "metadata": {},
   "outputs": [],
   "source": [
    "numpy_embeddings = np.squeeze(numpy_embeddings)"
   ]
  },
  {
   "cell_type": "code",
   "execution_count": 25,
   "id": "314c358f-ef8d-4378-a166-c0bb43f4675e",
   "metadata": {},
   "outputs": [
    {
     "data": {
      "text/plain": [
       "(50257, 768)"
      ]
     },
     "execution_count": 25,
     "metadata": {},
     "output_type": "execute_result"
    }
   ],
   "source": [
    "numpy_embeddings.shape"
   ]
  },
  {
   "cell_type": "code",
   "execution_count": 26,
   "id": "0a850e19-e8bd-40e8-9e70-b670a9dc766a",
   "metadata": {},
   "outputs": [],
   "source": [
    "np.save('embeddings.npy',numpy_embeddings)"
   ]
  },
  {
   "cell_type": "code",
   "execution_count": null,
   "id": "16c64d89-95c2-49b3-8be3-30f06172cea2",
   "metadata": {},
   "outputs": [],
   "source": []
  },
  {
   "cell_type": "code",
   "execution_count": null,
   "id": "9c89e5e0-e12b-4c57-8cff-8b14f0b10490",
   "metadata": {},
   "outputs": [],
   "source": []
  },
  {
   "cell_type": "code",
   "execution_count": null,
   "id": "b45dbdca-9b67-4377-a7b4-5b244b6618f3",
   "metadata": {},
   "outputs": [],
   "source": []
  }
 ],
 "metadata": {
  "kernelspec": {
   "display_name": "Python 3",
   "language": "python",
   "name": "python3"
  },
  "language_info": {
   "codemirror_mode": {
    "name": "ipython",
    "version": 3
   },
   "file_extension": ".py",
   "mimetype": "text/x-python",
   "name": "python",
   "nbconvert_exporter": "python",
   "pygments_lexer": "ipython3",
   "version": "3.8.10"
  }
 },
 "nbformat": 4,
 "nbformat_minor": 5
}
